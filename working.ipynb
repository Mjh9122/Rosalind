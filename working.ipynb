{
 "cells": [
  {
   "cell_type": "code",
   "execution_count": 228,
   "metadata": {},
   "outputs": [],
   "source": [
    "\n",
    "import re"
   ]
  },
  {
   "cell_type": "code",
   "execution_count": 229,
   "metadata": {},
   "outputs": [],
   "source": [
    "def get_lines_from_uniprot(code):\n",
    "    import requests\n",
    "    url = f'https://rest.uniprot.org/uniprotkb/stream?compressed=false&format=fasta&query={code}'\n",
    "    all_fastas = requests.get(url).text\n",
    "    lines = all_fastas.split('\\n')\n",
    "    return lines"
   ]
  },
  {
   "cell_type": "code",
   "execution_count": 230,
   "metadata": {},
   "outputs": [],
   "source": [
    "def get_string_from_lines(lines, id2):\n",
    "    if len(id2):\n",
    "        header_idxs = [i for i, l in enumerate(lines) if len(l) and l[0] == '>' and id2 in l]\n",
    "        if not len(header_idxs):\n",
    "            print(id2, [l.split(' ')[0] for i, l in enumerate(lines) if len(l) and l[0] == '>'])\n",
    "            return\n",
    "        header_idx = min(header_idxs)\n",
    "        string = ''\n",
    "        for l in lines[header_idx + 1:]:\n",
    "            if len(l) and l[0] != '>':\n",
    "                string += l\n",
    "            else:\n",
    "                break\n",
    "        return string\n",
    "    else:\n",
    "        return \"\".join(lines[1:])"
   ]
  },
  {
   "cell_type": "code",
   "execution_count": 231,
   "metadata": {},
   "outputs": [],
   "source": [
    "def find_all_matches(pattern, string):\n",
    "    pat = re.compile(pattern)\n",
    "    pos = 0\n",
    "    out = []\n",
    "    positions = []\n",
    "    while (match := pat.search(string, pos)) is not None:\n",
    "        pos = match.start() + 1\n",
    "        positions.append(pos)\n",
    "        out.append(match[0])\n",
    "    return out, positions"
   ]
  },
  {
   "cell_type": "code",
   "execution_count": 232,
   "metadata": {},
   "outputs": [
    {
     "name": "stdout",
     "output_type": "stream",
     "text": [
      "A5WBR3\n",
      "5 \n",
      "P22891_PROZ_HUMAN\n",
      "99 225 233 306 332 \n",
      "B3CNE0\n",
      "107 \n",
      "P04441_HG2A_MOUSE\n",
      "113 119 239 253 \n",
      "P19835_CEL_HUMAN\n",
      "207 \n",
      "P08318_P150_HCMVA\n",
      "833 \n",
      "O13188\n",
      "207 \n",
      "P01045_KNG2_BOVIN\n",
      "47 87 168 169 197 204 280 \n"
     ]
    }
   ],
   "source": [
    "example = [\n",
    "\"A1USX4\",\n",
    "\"B6DCT5\",\n",
    "\"A5WBR3\",\n",
    "\"A2Z669\",\n",
    "\"P22891_PROZ_HUMAN\",\n",
    "\"B3CNE0\",\n",
    "\"Q6GEK4\",\n",
    "\"P04441_HG2A_MOUSE\",\n",
    "\"A5GIU0\",\n",
    "\"P19835_CEL_HUMAN\",\n",
    "\"P08318_P150_HCMVA\",\n",
    "\"O13188\",\n",
    "\"P01787\",\n",
    "\"P01045_KNG2_BOVIN\",\n",
    "\n",
    "]\n",
    "for id in example:\n",
    "    id1 = id[:6]\n",
    "    id2 = id[7:]\n",
    "    lines = get_lines_from_uniprot(id1)\n",
    "    string = get_string_from_lines(lines, id2)\n",
    "    matches, positions = find_all_matches('N[^P][ST][^P]', string)\n",
    "    if len(positions):\n",
    "        print(id)\n",
    "        pos_str = ''\n",
    "        for p in positions:\n",
    "            pos_str += str(p) + ' '\n",
    "        print(pos_str)"
   ]
  }
 ],
 "metadata": {
  "kernelspec": {
   "display_name": "Python 3",
   "language": "python",
   "name": "python3"
  },
  "language_info": {
   "codemirror_mode": {
    "name": "ipython",
    "version": 3
   },
   "file_extension": ".py",
   "mimetype": "text/x-python",
   "name": "python",
   "nbconvert_exporter": "python",
   "pygments_lexer": "ipython3",
   "version": "3.11.1"
  }
 },
 "nbformat": 4,
 "nbformat_minor": 2
}
