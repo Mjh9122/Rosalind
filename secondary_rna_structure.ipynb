{
 "cells": [
  {
   "cell_type": "code",
   "execution_count": 28,
   "metadata": {},
   "outputs": [],
   "source": [
    "from Rna import Rna"
   ]
  },
  {
   "cell_type": "code",
   "execution_count": 29,
   "metadata": {},
   "outputs": [],
   "source": [
    "strings = []\n",
    "\n",
    "with open('Inputs/rosalind_motz.txt') as f:\n",
    "    rna = Rna(f.readlines())\n",
    "\n",
    "len(rna.string)\n",
    "\n",
    "s = rna.string"
   ]
  },
  {
   "cell_type": "code",
   "execution_count": 30,
   "metadata": {},
   "outputs": [],
   "source": [
    "def perfect_matchings_from_a_to_b(s, a, b, mem):\n",
    "    trgt = {\n",
    "        'A':'U',\n",
    "        'U':'A',\n",
    "        'C':'G',\n",
    "        'G':'C'\n",
    "    }\n",
    "\n",
    "    if not b - a % 2:\n",
    "        return 0\n",
    "    \n",
    "    if b < a or a >= len(s) or b < 0:\n",
    "        return 1\n",
    "    \n",
    "    if (a, b) in mem:\n",
    "        return mem[(a, b)]\n",
    "\n",
    "    one = s[a]\n",
    "    tot = 0\n",
    "\n",
    "    for i in range(a + 1, b + 1, 2):\n",
    "        if s[i] == trgt[one]:\n",
    "            left = perfect_matchings_from_a_to_b(s, a + 1, i - 1, mem)\n",
    "            right = perfect_matchings_from_a_to_b(s, i + 1, b, mem)\n",
    "            tot += (left * right)\n",
    "    mem[(a, b)] = tot \n",
    "    return tot\n"
   ]
  },
  {
   "cell_type": "code",
   "execution_count": 31,
   "metadata": {},
   "outputs": [],
   "source": [
    "def all_matchings_upto_a(s, a, mem):\n",
    "    trgt = {\n",
    "        'A':'U',\n",
    "        'U':'A',\n",
    "        'C':'G',\n",
    "        'G':'C'\n",
    "    }\n",
    "\n",
    "    if a <= 1:\n",
    "        return 1\n",
    "    \n",
    "    if (s, a) in mem:\n",
    "        return mem[(s, a)]\n",
    "\n",
    "    tot = all_matchings_upto_a(s[1:], a - 1, mem)\n",
    "    for i in range(1, a):\n",
    "        if s[i] == trgt[s[0]]:\n",
    "            tot += all_matchings_upto_a(s[1:i], i - 1 , mem) * all_matchings_upto_a(s[i+1:], a - i -1, mem)\n",
    "    mem[(s, a)] = tot \n",
    "    return tot"
   ]
  },
  {
   "cell_type": "code",
   "execution_count": 32,
   "metadata": {},
   "outputs": [
    {
     "data": {
      "text/plain": [
       "785998"
      ]
     },
     "execution_count": 32,
     "metadata": {},
     "output_type": "execute_result"
    }
   ],
   "source": [
    "all_matchings_upto_a(s, len(s), {})%1_000_000"
   ]
  }
 ],
 "metadata": {
  "kernelspec": {
   "display_name": "Python 3",
   "language": "python",
   "name": "python3"
  },
  "language_info": {
   "codemirror_mode": {
    "name": "ipython",
    "version": 3
   },
   "file_extension": ".py",
   "mimetype": "text/x-python",
   "name": "python",
   "nbconvert_exporter": "python",
   "pygments_lexer": "ipython3",
   "version": "3.11.1"
  }
 },
 "nbformat": 4,
 "nbformat_minor": 2
}
