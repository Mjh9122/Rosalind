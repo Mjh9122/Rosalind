{
 "cells": [
  {
   "cell_type": "code",
   "execution_count": 1,
   "metadata": {},
   "outputs": [],
   "source": [
    "import numpy as np\n",
    "from tqdm import tqdm"
   ]
  },
  {
   "cell_type": "code",
   "execution_count": 2,
   "metadata": {},
   "outputs": [],
   "source": [
    "with open('./Inputs/rosalind_lgis(2).txt') as f:\n",
    "    num = f.readline().strip()\n",
    "    seq = [int(i) for i in f.readline().strip().split(' ')]"
   ]
  },
  {
   "cell_type": "code",
   "execution_count": 3,
   "metadata": {},
   "outputs": [
    {
     "name": "stderr",
     "output_type": "stream",
     "text": [
      "100%|██████████| 9328/9328 [00:18<00:00, 508.43it/s] "
     ]
    },
    {
     "name": "stdout",
     "output_type": "stream",
     "text": [
      "112 206 253 255 257 261 401 440 505 525 536 607 625 682 719 819 966 1062 1305 1374 1408 1417 1430 1482 1613 1618 1758 1769 1824 1860 1897 1978 1984 2015 2089 2154 2224 2290 2297 2301 2309 2326 2361 2370 2415 2452 2457 2478 2544 2579 2617 2669 2873 2889 2937 2941 3021 3027 3063 3087 3234 3276 3301 3352 3472 3489 3753 3876 3898 3907 3945 4103 4179 4181 4218 4237 4248 4252 4278 4281 4388 4426 4485 4511 4522 4567 4593 4652 4681 4740 4783 4886 4925 4937 4956 5064 5130 5170 5218 5239 5276 5323 5353 5409 5485 5491 5550 5628 5631 5690 5711 5742 5761 5794 5843 5890 5906 5913 5959 5990 6000 6002 6009 6034 6059 6089 6090 6121 6143 6269 6291 6321 6406 6414 6519 6578 6592 6614 6662 6721 6729 6739 6746 6805 6815 6887 6891 6900 6942 6957 6991 7022 7023 7102 7117 7192 7197 7198 7250 7284 7292 7304 7392 7409 7454 7502 7553 7605 7620 7685 7698 7797 7814 7882 7904 7983 8021 8101 8316 8399 8545 8596 8605 8673 8720 8760 8823 8832 8908 9062 9148 \n",
      "191\n"
     ]
    },
    {
     "name": "stderr",
     "output_type": "stream",
     "text": [
      "\n"
     ]
    }
   ],
   "source": [
    "n = len(seq)\n",
    "mat = [[num] for num in seq]\n",
    "\n",
    "for i in tqdm(range(1, n)):\n",
    "    for j in range(0, i):\n",
    "        if seq[i] > seq[j]:  \n",
    "            mat[i] = max((mat[i], sorted(mat[j]+[seq[i]])), key = len)\n",
    "\n",
    "increase = sorted(mat, key = len)[-1]\n",
    "print(\"\".join([str(i) + ' ' for i in increase]))\n",
    "print(len(increase))"
   ]
  },
  {
   "cell_type": "code",
   "execution_count": 4,
   "metadata": {},
   "outputs": [
    {
     "name": "stderr",
     "output_type": "stream",
     "text": [
      "100%|██████████| 9328/9328 [00:19<00:00, 481.52it/s] "
     ]
    },
    {
     "name": "stdout",
     "output_type": "stream",
     "text": [
      "9214 8928 8840 8610 8522 8505 8495 8449 8447 8371 8166 8119 8041 8035 8006 7872 7758 7729 7705 7658 7548 7513 7504 7481 7473 7446 7428 7424 7382 7326 7271 7248 7195 7181 7134 7129 7112 7073 7020 7012 6988 6959 6953 6915 6788 6762 6747 6653 6642 6617 6595 6571 6541 6501 6500 6479 6408 6400 6343 6315 6260 6256 6150 6071 6048 6007 5988 5917 5894 5805 5792 5755 5733 5635 5571 5465 5456 5445 5425 5394 5350 5340 5239 5149 5135 5074 5065 5062 5046 5003 4996 4992 4987 4981 4901 4796 4707 4697 4677 4615 4606 4521 4479 4411 4404 4376 4354 4320 4289 4261 4215 4184 4145 4109 4082 4009 3996 3959 3952 3912 3871 3582 3496 3476 3464 3368 3251 3235 3132 3017 2965 2943 2910 2809 2803 2798 2758 2690 2507 2445 2422 2404 2371 2314 2282 2208 2165 2122 2051 1986 1960 1888 1877 1876 1692 1690 1661 1592 1549 1439 1398 1375 1341 1329 1325 1310 1258 1131 1078 1065 1060 984 927 889 751 596 500 387 382 359 341 236 159 75 32 \n",
      "185\n"
     ]
    },
    {
     "name": "stderr",
     "output_type": "stream",
     "text": [
      "\n"
     ]
    }
   ],
   "source": [
    "n = len(seq)\n",
    "mat = [[num] for num in seq]\n",
    "\n",
    "for i in tqdm(range(1, n)):\n",
    "    for j in range(0, i):\n",
    "        if seq[i] < seq[j]:  \n",
    "            mat[i] = max((mat[i], sorted(mat[j]+[seq[i]], reverse = True)), key = len)\n",
    "\n",
    "decrease = sorted(mat, key = len)[-1]\n",
    "\n",
    "print(\"\".join([str(i) + ' ' for i in decrease]))\n",
    "print(len(decrease))"
   ]
  },
  {
   "cell_type": "code",
   "execution_count": 6,
   "metadata": {},
   "outputs": [
    {
     "name": "stdout",
     "output_type": "stream",
     "text": [
      "Length of lis is 191\n"
     ]
    }
   ],
   "source": [
    "def lis(arr):\n",
    "    n = len(arr)\n",
    "\n",
    "    # Declare the list (array) for LIS and\n",
    "    # initialize LIS values for all indexes\n",
    "    lis = [1]*n\n",
    "\n",
    "    # Compute optimized LIS values in bottom up manner\n",
    "    for i in range(1, n):\n",
    "        for j in range(0, i):\n",
    "            if arr[i] > arr[j]:\n",
    "                lis[i] = max(lis[i], lis[j]+1)\n",
    "\n",
    "    # Return the maximum of all LIS values\n",
    "    return max(lis)\n",
    "\n",
    "\n",
    "# Driver program to test above function\n",
    "if __name__ == '__main__':\n",
    "    print(\"Length of lis is\", lis(seq))"
   ]
  },
  {
   "cell_type": "code",
   "execution_count": null,
   "metadata": {},
   "outputs": [],
   "source": []
  }
 ],
 "metadata": {
  "kernelspec": {
   "display_name": "Python 3",
   "language": "python",
   "name": "python3"
  },
  "language_info": {
   "codemirror_mode": {
    "name": "ipython",
    "version": 3
   },
   "file_extension": ".py",
   "mimetype": "text/x-python",
   "name": "python",
   "nbconvert_exporter": "python",
   "pygments_lexer": "ipython3",
   "version": "3.11.1"
  }
 },
 "nbformat": 4,
 "nbformat_minor": 2
}
