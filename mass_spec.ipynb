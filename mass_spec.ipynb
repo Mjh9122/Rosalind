{
 "cells": [
  {
   "cell_type": "code",
   "execution_count": 20,
   "metadata": {},
   "outputs": [],
   "source": [
    "import numpy as np"
   ]
  },
  {
   "cell_type": "code",
   "execution_count": 21,
   "metadata": {},
   "outputs": [],
   "source": [
    "amino_acid_weight_map = {\n",
    "    \"A\":71.03711,\n",
    "    \"C\":103.00919,\n",
    "    \"D\":115.02694,\n",
    "    \"E\":129.04259,\n",
    "    \"F\":147.06841,\n",
    "    \"G\":57.02146,\n",
    "    \"H\":137.05891,\n",
    "    \"I\":113.08406,\n",
    "    \"K\":128.09496,\n",
    "    \"L\":113.08406,\n",
    "    \"M\":131.04049,\n",
    "    \"N\":114.04293,\n",
    "    \"P\":97.05276,\n",
    "    \"Q\":128.05858,\n",
    "    \"R\":156.10111,\n",
    "    \"S\":87.03203,\n",
    "    \"T\":101.04768,\n",
    "    \"V\":99.06841,\n",
    "    \"W\":186.07931,\n",
    "    \"Y\":163.06333,\n",
    "}"
   ]
  },
  {
   "cell_type": "code",
   "execution_count": 22,
   "metadata": {},
   "outputs": [
    {
     "data": {
      "text/plain": [
       "[3450.23241626,\n",
       " 3564.27534626,\n",
       " 3701.33425626,\n",
       " 3829.39283626,\n",
       " 3942.47689626,\n",
       " 4055.56095626,\n",
       " 4154.62936626,\n",
       " 4241.66139626,\n",
       " 4372.70188626,\n",
       " 4501.74447626,\n",
       " 4604.75366626,\n",
       " 4691.78569626,\n",
       " 4748.80715626,\n",
       " 4877.84974626,\n",
       " 5005.94470626,\n",
       " 5143.00361626,\n",
       " 5258.03055626,\n",
       " 5414.13166626,\n",
       " 5471.15312626,\n",
       " 5570.22153626,\n",
       " 5698.28011626,\n",
       " 5769.31722626,\n",
       " 5955.39653626,\n",
       " 6118.45986626,\n",
       " 6189.49697626,\n",
       " 6304.52391626,\n",
       " 6418.56684626,\n",
       " 6531.65090626,\n",
       " 6644.73496626,\n",
       " 6807.79829626,\n",
       " 6920.88235626,\n",
       " 7034.92528626,\n",
       " 7171.98419626,\n",
       " 7274.99338626,\n",
       " 7412.05229626,\n",
       " 7540.14725626,\n",
       " 7653.23131626,\n",
       " 7768.25825626,\n",
       " 7867.32666626,\n",
       " 7998.36715626,\n",
       " 8085.39918626,\n",
       " 8142.42064626,\n",
       " 8257.44758626,\n",
       " 8314.46904626,\n",
       " 8411.52180626,\n",
       " 8482.55891626,\n",
       " 8629.62732626,\n",
       " 8742.71138626,\n",
       " 8839.76414626,\n",
       " 8967.82272626,\n",
       " 9104.88163626,\n",
       " 9235.92212626,\n",
       " 9372.98103626,\n",
       " 9444.01814626,\n",
       " 9557.10220626,\n",
       " 9614.12366626,\n",
       " 9701.15569626,\n",
       " 9848.22410626,\n",
       " 9919.26121626,\n",
       " 10033.3041463,\n",
       " 10120.3361763,\n",
       " 10306.4154863,\n",
       " 10462.5165963,\n",
       " 10565.5257863,\n",
       " 10712.5941963,\n",
       " 10809.6469563,\n",
       " 10924.6738963,\n",
       " 11011.7059263,\n",
       " 11167.8070363,\n",
       " 11266.8754463,\n",
       " 11394.9340263,\n",
       " 11481.9660563,\n",
       " 11538.9875163,\n",
       " 11596.0089763,\n",
       " 11653.0304363,\n",
       " 11766.1144963,\n",
       " 11903.1734063,\n",
       " 12000.2261663,\n",
       " 12129.2687563,\n",
       " 12242.3528163,\n",
       " 12373.3933063,\n",
       " 12501.4882663,\n",
       " 12588.5202963,\n",
       " 12701.6043563]"
      ]
     },
     "execution_count": 22,
     "metadata": {},
     "output_type": "execute_result"
    }
   ],
   "source": [
    "with open('./Inputs/rosalind_spec.txt') as f:\n",
    "    lines = f.readlines()\n",
    "    masses = [float(i.strip()) for i in lines]\n",
    "masses"
   ]
  },
  {
   "cell_type": "code",
   "execution_count": 23,
   "metadata": {},
   "outputs": [
    {
     "data": {
      "text/plain": [
       "'NHQIIVSMECSGEKHDRGVQAWYADNIIYINHCHKIDVMSGDGPAFIPQHMHAIGSFANSWRCFPDSRVQSGGGIHPEIMKSI'"
      ]
     },
     "execution_count": 23,
     "metadata": {},
     "output_type": "execute_result"
    }
   ],
   "source": [
    "string = ''\n",
    "for i, mass in enumerate(masses[:-1]):\n",
    "    diff = masses[i + 1] - mass\n",
    "    closest_acid = list(amino_acid_weight_map.keys())[np.argmin(abs(np.array(list(amino_acid_weight_map.values())) - diff))]\n",
    "    string += closest_acid\n",
    "string"
   ]
  },
  {
   "cell_type": "code",
   "execution_count": null,
   "metadata": {},
   "outputs": [],
   "source": []
  }
 ],
 "metadata": {
  "kernelspec": {
   "display_name": "Python 3",
   "language": "python",
   "name": "python3"
  },
  "language_info": {
   "codemirror_mode": {
    "name": "ipython",
    "version": 3
   },
   "file_extension": ".py",
   "mimetype": "text/x-python",
   "name": "python",
   "nbconvert_exporter": "python",
   "pygments_lexer": "ipython3",
   "version": "3.11.1"
  }
 },
 "nbformat": 4,
 "nbformat_minor": 2
}
