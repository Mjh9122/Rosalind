{
 "cells": [
  {
   "cell_type": "code",
   "execution_count": 54,
   "metadata": {},
   "outputs": [],
   "source": [
    "import itertools\n",
    "import networkx as nx\n",
    "import numpy as np\n",
    "import math\n",
    "\n",
    "from tqdm import tqdm"
   ]
  },
  {
   "cell_type": "code",
   "execution_count": 55,
   "metadata": {},
   "outputs": [
    {
     "name": "stderr",
     "output_type": "stream",
     "text": [
      "100%|██████████| 3628800/3628800 [05:11<00:00, 11644.81it/s]\n"
     ]
    },
    {
     "name": "stdout",
     "output_type": "stream",
     "text": [
      "3628800 81648000\n"
     ]
    }
   ],
   "source": [
    "g = nx.Graph()\n",
    "\n",
    "for permutation in tqdm(itertools.permutations((range(1, 11))), total = math.factorial(10)):\n",
    "    node = permutation\n",
    "    for i in range(0, len(node) - 1):\n",
    "        for j in range(i + 1, len(node)):\n",
    "            if i == 0:\n",
    "                new_perm = node[:i] + node[j::-1] + node[j + 1:]\n",
    "            else:\n",
    "                new_perm = node[:i] + node[j:i - 1:-1] + node[j + 1:]\n",
    "            #print(node, new_perm)\n",
    "            if not len(new_perm):\n",
    "                continue\n",
    "            if (node, new_perm) not in g.edges:\n",
    "                g.add_edge(node, new_perm)\n",
    "\n",
    "#nx.draw_circular(g, with_labels = True)\n",
    "print(len(g), len(g.edges))"
   ]
  },
  {
   "cell_type": "code",
   "execution_count": 57,
   "metadata": {},
   "outputs": [
    {
     "name": "stdout",
     "output_type": "stream",
     "text": [
      "(1, 3, 2, 5, 10, 8, 4, 6, 7, 9) (1, 10, 5, 4, 7, 9, 2, 3, 8, 6)\n",
      "4\n",
      "(7, 3, 4, 5, 10, 9, 2, 8, 6, 1) (4, 7, 10, 3, 2, 5, 6, 9, 1, 8)\n",
      "9\n",
      "(1, 7, 5, 9, 10, 6, 8, 3, 4, 2) (8, 3, 6, 1, 5, 9, 10, 4, 2, 7)\n",
      "4\n",
      "(3, 10, 8, 2, 4, 1, 5, 6, 9, 7) (5, 3, 9, 1, 7, 10, 6, 2, 8, 4)\n",
      "7\n",
      "(3, 4, 9, 5, 6, 10, 1, 8, 2, 7) (8, 1, 6, 9, 7, 5, 3, 4, 10, 2)\n",
      "6\n"
     ]
    }
   ],
   "source": [
    "with open('./Inputs/rosalind_rear.txt') as f:\n",
    "    for i in range(5):\n",
    "        seq1 = tuple([int(i) for i in f.readline().strip().split(' ')])\n",
    "        seq2 = tuple([int(i) for i in f.readline().strip().split(' ')])\n",
    "        _ = f.readline()\n",
    "        print(seq1, seq2)\n",
    "        print(nx.shortest_path_length(g, seq1, seq2))"
   ]
  }
 ],
 "metadata": {
  "kernelspec": {
   "display_name": "Python 3",
   "language": "python",
   "name": "python3"
  },
  "language_info": {
   "codemirror_mode": {
    "name": "ipython",
    "version": 3
   },
   "file_extension": ".py",
   "mimetype": "text/x-python",
   "name": "python",
   "nbconvert_exporter": "python",
   "pygments_lexer": "ipython3",
   "version": "3.11.1"
  }
 },
 "nbformat": 4,
 "nbformat_minor": 2
}
