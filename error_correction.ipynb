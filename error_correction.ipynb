{
 "cells": [
  {
   "cell_type": "code",
   "execution_count": 89,
   "metadata": {},
   "outputs": [],
   "source": [
    "from Dna import Dna"
   ]
  },
  {
   "cell_type": "code",
   "execution_count": 90,
   "metadata": {},
   "outputs": [
    {
     "data": {
      "text/plain": [
       "960"
      ]
     },
     "execution_count": 90,
     "metadata": {},
     "output_type": "execute_result"
    }
   ],
   "source": [
    "strings = []\n",
    "with open('./Inputs/rosalind_corr(2).txt') as f:\n",
    "    lines = f.readlines()\n",
    "    headers = []\n",
    "    active_str = ''\n",
    "    for l in lines:\n",
    "        if l[0] == '>':\n",
    "            headers.append(l)\n",
    "            strings.append(active_str)\n",
    "            active_str = ''\n",
    "        else:\n",
    "            active_str += l.strip()\n",
    "    strings.append(active_str)\n",
    "dnas = [Dna([h, s]) for h, s in zip(headers, strings[1:])]\n",
    "len(dnas)"
   ]
  },
  {
   "cell_type": "code",
   "execution_count": 91,
   "metadata": {},
   "outputs": [],
   "source": [
    "strings = strings[1:]\n",
    "reverses = [d.reverse_compliment() for d in dnas]\n",
    "seqs = strings + reverses"
   ]
  },
  {
   "cell_type": "code",
   "execution_count": 92,
   "metadata": {},
   "outputs": [
    {
     "name": "stdout",
     "output_type": "stream",
     "text": [
      "450\n"
     ]
    }
   ],
   "source": [
    "correct = []\n",
    "incorrect = []\n",
    "\n",
    "for seq in list(set(seqs)):\n",
    "    if seqs.count(seq) >= 2:\n",
    "        correct.append(seq)\n",
    "    elif seq in strings:\n",
    "        incorrect.append(seq)\n",
    "\n",
    "print(len(incorrect))"
   ]
  },
  {
   "cell_type": "code",
   "execution_count": 93,
   "metadata": {},
   "outputs": [],
   "source": [
    "with open('./Output/out.txt', 'w') as f:\n",
    "    for read1 in incorrect:\n",
    "        for read2 in correct:\n",
    "            if Dna([\">\", read1]).hamming_dist(read2) == 1:\n",
    "                f.write(f'{read1}->{read2}\\n')\n",
    "                break"
   ]
  }
 ],
 "metadata": {
  "kernelspec": {
   "display_name": "Python 3",
   "language": "python",
   "name": "python3"
  },
  "language_info": {
   "codemirror_mode": {
    "name": "ipython",
    "version": 3
   },
   "file_extension": ".py",
   "mimetype": "text/x-python",
   "name": "python",
   "nbconvert_exporter": "python",
   "pygments_lexer": "ipython3",
   "version": "3.11.1"
  }
 },
 "nbformat": 4,
 "nbformat_minor": 2
}
