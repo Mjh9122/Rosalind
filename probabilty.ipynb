{
 "cells": [
  {
   "cell_type": "code",
   "execution_count": 4,
   "metadata": {},
   "outputs": [],
   "source": [
    "import numpy as np"
   ]
  },
  {
   "cell_type": "code",
   "execution_count": 5,
   "metadata": {},
   "outputs": [],
   "source": [
    "n = 87433 \n",
    "\n",
    "\n",
    "gc = 0.461910\n",
    "string = 'ACATTAAA'"
   ]
  },
  {
   "cell_type": "code",
   "execution_count": 6,
   "metadata": {},
   "outputs": [
    {
     "data": {
      "text/plain": [
       "0.872615619236528"
      ]
     },
     "execution_count": 6,
     "metadata": {},
     "output_type": "execute_result"
    }
   ],
   "source": [
    "p = 1\n",
    "for l in string:\n",
    "    if l in 'AT':\n",
    "        p *= (1 - gc)/2\n",
    "    else:\n",
    "        p *= (gc)/2\n",
    "p_c = 1 - p\n",
    "1 - p_c ** n"
   ]
  },
  {
   "cell_type": "code",
   "execution_count": 7,
   "metadata": {},
   "outputs": [
    {
     "ename": "NameError",
     "evalue": "name 'gc_contents' is not defined",
     "output_type": "error",
     "traceback": [
      "\u001b[1;31m---------------------------------------------------------------------------\u001b[0m",
      "\u001b[1;31mNameError\u001b[0m                                 Traceback (most recent call last)",
      "Cell \u001b[1;32mIn[7], line 2\u001b[0m\n\u001b[0;32m      1\u001b[0m ps \u001b[38;5;241m=\u001b[39m []\n\u001b[1;32m----> 2\u001b[0m \u001b[38;5;28;01mfor\u001b[39;00m gc \u001b[38;5;129;01min\u001b[39;00m \u001b[43mgc_contents\u001b[49m:\n\u001b[0;32m      3\u001b[0m     p \u001b[38;5;241m=\u001b[39m \u001b[38;5;241m1\u001b[39m\n\u001b[0;32m      4\u001b[0m     \u001b[38;5;28;01mfor\u001b[39;00m letter \u001b[38;5;129;01min\u001b[39;00m dna:\n",
      "\u001b[1;31mNameError\u001b[0m: name 'gc_contents' is not defined"
     ]
    }
   ],
   "source": [
    "ps = []\n",
    "for gc in gc_contents:\n",
    "    p = 1\n",
    "    for letter in dna:\n",
    "        if letter in 'AT':\n",
    "            p *= (1 - gc)/2\n",
    "        else:\n",
    "            p *= (gc)/2\n",
    "    ps.append(np.log10(p))\n",
    "\n",
    "p_str = ''\n",
    "for p in ps:\n",
    "    p_str += str(p)[:7] + ' '\n",
    "\n",
    "print(p_str)"
   ]
  },
  {
   "cell_type": "code",
   "execution_count": null,
   "metadata": {},
   "outputs": [],
   "source": []
  }
 ],
 "metadata": {
  "kernelspec": {
   "display_name": "Python 3",
   "language": "python",
   "name": "python3"
  },
  "language_info": {
   "codemirror_mode": {
    "name": "ipython",
    "version": 3
   },
   "file_extension": ".py",
   "mimetype": "text/x-python",
   "name": "python",
   "nbconvert_exporter": "python",
   "pygments_lexer": "ipython3",
   "version": "3.11.1"
  }
 },
 "nbformat": 4,
 "nbformat_minor": 2
}
