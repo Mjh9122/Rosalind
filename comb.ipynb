{
 "cells": [
  {
   "cell_type": "code",
   "execution_count": 52,
   "metadata": {},
   "outputs": [],
   "source": [
    "import math\n",
    "import numpy as np"
   ]
  },
  {
   "cell_type": "code",
   "execution_count": 53,
   "metadata": {},
   "outputs": [
    {
     "data": {
      "text/plain": [
       "19590"
      ]
     },
     "execution_count": 53,
     "metadata": {},
     "output_type": "execute_result"
    }
   ],
   "source": [
    "with open('./Inputs/rosalind_seto(2).txt') as f:\n",
    "    n = int(f.readline())\n",
    "    s1 = set([int(s.strip()) for s in f.readline().strip()[1:-1].split(',')])\n",
    "    s2 = set([int(s.strip()) for s in f.readline().strip()[1:-1].split(',')])\n",
    "n"
   ]
  },
  {
   "cell_type": "code",
   "execution_count": 54,
   "metadata": {},
   "outputs": [],
   "source": [
    "with open('./Output/out.txt', 'w') as f:\n",
    "    f.write(str(s1.union(s2)) + '\\n')\n",
    "    f.write(str(s1.intersection(s2))+ '\\n')\n",
    "    f.write(str(s1.difference(s2))+ '\\n')\n",
    "    f.write(str(s2.difference(s1))+ '\\n')\n",
    "    f.write(str(set(range(1, n + 1)).difference(s1))+ '\\n')\n",
    "    f.write(str(set(range(1, n + 1)).difference(s2))+ '\\n')"
   ]
  }
 ],
 "metadata": {
  "kernelspec": {
   "display_name": "Python 3",
   "language": "python",
   "name": "python3"
  },
  "language_info": {
   "codemirror_mode": {
    "name": "ipython",
    "version": 3
   },
   "file_extension": ".py",
   "mimetype": "text/x-python",
   "name": "python",
   "nbconvert_exporter": "python",
   "pygments_lexer": "ipython3",
   "version": "3.11.1"
  }
 },
 "nbformat": 4,
 "nbformat_minor": 2
}
