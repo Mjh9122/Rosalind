{
 "cells": [
  {
   "cell_type": "code",
   "execution_count": 74,
   "metadata": {},
   "outputs": [],
   "source": [
    "import networkx as nx\n",
    "from Bio import Phylo"
   ]
  },
  {
   "cell_type": "code",
   "execution_count": 75,
   "metadata": {},
   "outputs": [
    {
     "name": "stdout",
     "output_type": "stream",
     "text": [
      "717 1658 1123 240 484 1618 644 970 1041 818 2248 1359 977 527 651 1299 835 757 910 1222 551 574 1585 984 1258 424 944 566 663 611 1711 953 798 903 1622 535 1106 965 458 744 \n"
     ]
    }
   ],
   "source": [
    "out1 = ''\n",
    "\n",
    "with open('./Inputs/rosalind_nkew(1).txt') as f:\n",
    "    lines = f.readlines()\n",
    "    for i in range(0, len(lines), 3):\n",
    "        newick = lines[i]\n",
    "        u_v = lines[i + 1].strip().split(' ')\n",
    "        with open('./Output/out.txt', 'w') as f:\n",
    "            f.write(newick)\n",
    "        tree = Phylo.read(open('./Output/out.txt'), format='newick')\n",
    "        out1 += str(round(tree.distance(u_v[0], u_v[1])))+' '\n",
    "\n",
    "print(out1)"
   ]
  },
  {
   "cell_type": "code",
   "execution_count": null,
   "metadata": {},
   "outputs": [],
   "source": []
  }
 ],
 "metadata": {
  "kernelspec": {
   "display_name": "Python 3",
   "language": "python",
   "name": "python3"
  },
  "language_info": {
   "codemirror_mode": {
    "name": "ipython",
    "version": 3
   },
   "file_extension": ".py",
   "mimetype": "text/x-python",
   "name": "python",
   "nbconvert_exporter": "python",
   "pygments_lexer": "ipython3",
   "version": "3.11.1"
  }
 },
 "nbformat": 4,
 "nbformat_minor": 2
}
